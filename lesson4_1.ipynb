{
 "cells": [
  {
   "cell_type": "code",
   "execution_count": null,
   "metadata": {},
   "outputs": [],
   "source": []
  },
  {
   "cell_type": "code",
   "execution_count": 3,
   "metadata": {},
   "outputs": [
    {
     "name": "stdout",
     "output_type": "stream",
     "text": [
      "請輸入學生分數()：學生分數為 10\n"
     ]
    }
   ],
   "source": [
    "#學生總分為300\n",
    "import pyinputplus as pyip\n",
    "scores=pyip.inputInt(\"請輸入學生分數()：\")\n",
    "print(\"學生分數為\",scores)"
   ]
  },
  {
   "cell_type": "code",
   "execution_count": 5,
   "metadata": {},
   "outputs": [
    {
     "name": "stdout",
     "output_type": "stream",
     "text": [
      "請輸入學生分數(最高300分)：學生徐國堂分數為10\n"
     ]
    }
   ],
   "source": [
    "#學生總分為300\n",
    "import pyinputplus as pyip\n",
    "scores=pyip.inputInt(\"請輸入學生分數(最高300分)：\")\n",
    "name=\"徐國堂\"\n",
    "print(f\"學生{name}分數為{scores}\")"
   ]
  },
  {
   "cell_type": "code",
   "execution_count": null,
   "metadata": {},
   "outputs": [],
   "source": [
    "\n",
    "import pyinputplus as pyip\n",
    "scores=pyip.inputInt(\"請輸入學生分數(最高300分)：\",min=0,max=300)\n",
    "name=\"徐國堂\"\n",
    "print()\n",
    "print(f\"學生{name}分數為\")?????????"
   ]
  },
  {
   "cell_type": "code",
   "execution_count": 11,
   "metadata": {},
   "outputs": [
    {
     "name": "stdout",
     "output_type": "stream",
     "text": [
      "請輸入學生分數(最高300分):200\n"
     ]
    },
    {
     "ename": "AttributeError",
     "evalue": "module 'pyinputplus' has no attribute 'inputmenu'",
     "output_type": "error",
     "traceback": [
      "\u001b[0;31m---------------------------------------------------------------------------\u001b[0m",
      "\u001b[0;31mAttributeError\u001b[0m                            Traceback (most recent call last)",
      "\u001b[1;32m/workspaces/112python_1014/lesson4_1.ipynb Cell 5\u001b[0m line \u001b[0;36m7\n\u001b[1;32m      <a href='vscode-notebook-cell://codespaces%2Bautomatic-succotash-979pqvgq7r7jfr99/workspaces/112python_1014/lesson4_1.ipynb#W4sdnNjb2RlLXJlbW90ZQ%3D%3D?line=4'>5</a>\u001b[0m scores\u001b[39m=\u001b[39mpyip\u001b[39m.\u001b[39minputInt(\u001b[39m\"\u001b[39m\u001b[39m請輸入學生分數(最高300分):\u001b[39m\u001b[39m\"\u001b[39m,\u001b[39mmin\u001b[39m\u001b[39m=\u001b[39m\u001b[39m0\u001b[39m,\u001b[39mmax\u001b[39m\u001b[39m=\u001b[39m\u001b[39m300\u001b[39m)\n\u001b[1;32m      <a href='vscode-notebook-cell://codespaces%2Bautomatic-succotash-979pqvgq7r7jfr99/workspaces/112python_1014/lesson4_1.ipynb#W4sdnNjb2RlLXJlbW90ZQ%3D%3D?line=5'>6</a>\u001b[0m \u001b[39mprint\u001b[39m(scores)\n\u001b[0;32m----> <a href='vscode-notebook-cell://codespaces%2Bautomatic-succotash-979pqvgq7r7jfr99/workspaces/112python_1014/lesson4_1.ipynb#W4sdnNjb2RlLXJlbW90ZQ%3D%3D?line=6'>7</a>\u001b[0m isYes\u001b[39m=\u001b[39mpyip\u001b[39m.\u001b[39;49minputmenu([\u001b[39m'\u001b[39m\u001b[39my\u001b[39m\u001b[39m'\u001b[39m,\u001b[39m'\u001b[39m\u001b[39mn\u001b[39m\u001b[39m'\u001b[39m],prompt\u001b[39m=\u001b[39m\u001b[39m\"\u001b[39m\u001b[39m學生是否符合加分條件(請選擇1或2)?\u001b[39m\u001b[39m\\n\u001b[39;00m\u001b[39m\"\u001b[39m,numbered\u001b[39m=\u001b[39m\u001b[39mTrue\u001b[39;00m)\n\u001b[1;32m      <a href='vscode-notebook-cell://codespaces%2Bautomatic-succotash-979pqvgq7r7jfr99/workspaces/112python_1014/lesson4_1.ipynb#W4sdnNjb2RlLXJlbW90ZQ%3D%3D?line=7'>8</a>\u001b[0m \u001b[39mif\u001b[39;00m isYes \u001b[39m==\u001b[39m \u001b[39m'\u001b[39m\u001b[39my\u001b[39m\u001b[39m'\u001b[39m:\n\u001b[1;32m      <a href='vscode-notebook-cell://codespaces%2Bautomatic-succotash-979pqvgq7r7jfr99/workspaces/112python_1014/lesson4_1.ipynb#W4sdnNjb2RlLXJlbW90ZQ%3D%3D?line=8'>9</a>\u001b[0m     \u001b[39mprint\u001b[39m(\u001b[39m\"\u001b[39m\u001b[39m加分\u001b[39m\u001b[39m\"\u001b[39m)\n",
      "\u001b[0;31mAttributeError\u001b[0m: module 'pyinputplus' has no attribute 'inputmenu'"
     ]
    }
   ],
   "source": [
    "#學生總分為300\n",
    "#有些學生可以加分5%\n",
    "#如果加分超過300，就以300分為準\n",
    "import pyinputplus as pyip\n",
    "scores=pyip.inputInt(\"請輸入學生分數(最高300分):\",min=0,max=300)\n",
    "print(scores)\n",
    "isYes=pyip.inputmenu(['y','n'],prompt=\"學生是否符合加分條件(請選擇1或2)?\\n\",numbered=True)\n",
    "if isYes == 'y':\n",
    "    print(\"加分\")\n",
    "else:\n",
    "    print(\"減分\")"
   ]
  },
  {
   "cell_type": "code",
   "execution_count": 22,
   "metadata": {},
   "outputs": [
    {
     "name": "stdout",
     "output_type": "stream",
     "text": [
      "請輸入學生分數(最高300分):"
     ]
    },
    {
     "ename": "TypeError",
     "evalue": "'str' object is not callable",
     "output_type": "error",
     "traceback": [
      "\u001b[0;31m---------------------------------------------------------------------------\u001b[0m",
      "\u001b[0;31mTypeError\u001b[0m                                 Traceback (most recent call last)",
      "\u001b[1;32m/workspaces/112python_1014/lesson4_1.ipynb Cell 6\u001b[0m line \u001b[0;36m6\n\u001b[1;32m      <a href='vscode-notebook-cell://codespaces%2Bautomatic-succotash-979pqvgq7r7jfr99/workspaces/112python_1014/lesson4_1.ipynb#W6sdnNjb2RlLXJlbW90ZQ%3D%3D?line=3'>4</a>\u001b[0m \u001b[39mimport\u001b[39;00m \u001b[39mpyinputplus\u001b[39;00m \u001b[39mas\u001b[39;00m \u001b[39mpyip\u001b[39;00m\n\u001b[1;32m      <a href='vscode-notebook-cell://codespaces%2Bautomatic-succotash-979pqvgq7r7jfr99/workspaces/112python_1014/lesson4_1.ipynb#W6sdnNjb2RlLXJlbW90ZQ%3D%3D?line=4'>5</a>\u001b[0m scores\u001b[39m=\u001b[39mpyip\u001b[39m.\u001b[39minputInt(\u001b[39m\"\u001b[39m\u001b[39m請輸入學生分數(最高300分):\u001b[39m\u001b[39m\"\u001b[39m,\u001b[39mmin\u001b[39m\u001b[39m=\u001b[39m\u001b[39m0\u001b[39m,\u001b[39mmax\u001b[39m\u001b[39m=\u001b[39m\u001b[39m300\u001b[39m)\n\u001b[0;32m----> <a href='vscode-notebook-cell://codespaces%2Bautomatic-succotash-979pqvgq7r7jfr99/workspaces/112python_1014/lesson4_1.ipynb#W6sdnNjb2RlLXJlbW90ZQ%3D%3D?line=5'>6</a>\u001b[0m \u001b[39mprint\u001b[39;49m(scores)\n\u001b[1;32m      <a href='vscode-notebook-cell://codespaces%2Bautomatic-succotash-979pqvgq7r7jfr99/workspaces/112python_1014/lesson4_1.ipynb#W6sdnNjb2RlLXJlbW90ZQ%3D%3D?line=6'>7</a>\u001b[0m isYes\u001b[39m=\u001b[39mpyip\u001b[39m.\u001b[39minputMenu([\u001b[39m'\u001b[39m\u001b[39my\u001b[39m\u001b[39m'\u001b[39m,\u001b[39m'\u001b[39m\u001b[39mn\u001b[39m\u001b[39m'\u001b[39m],prompt\u001b[39m=\u001b[39m\u001b[39m\"\u001b[39m\u001b[39m學生是否符合加分條件(請選擇1或2)?\u001b[39m\u001b[39m\\n\u001b[39;00m\u001b[39m\"\u001b[39m,numbered\u001b[39m=\u001b[39m\u001b[39mTrue\u001b[39;00m)\n\u001b[1;32m      <a href='vscode-notebook-cell://codespaces%2Bautomatic-succotash-979pqvgq7r7jfr99/workspaces/112python_1014/lesson4_1.ipynb#W6sdnNjb2RlLXJlbW90ZQ%3D%3D?line=7'>8</a>\u001b[0m \u001b[39mif\u001b[39;00m isYes \u001b[39m==\u001b[39m \u001b[39m'\u001b[39m\u001b[39my\u001b[39m\u001b[39m'\u001b[39m:\n",
      "\u001b[0;31mTypeError\u001b[0m: 'str' object is not callable"
     ]
    }
   ],
   "source": [
    "#學生總分為300\n",
    "#有些學生可以加分5%\n",
    "#如果加分超過300，就以300分為準\n",
    "import pyinputplus as pyip\n",
    "scores=pyip.inputInt(\"請輸入學生分數(最高300分):\",min=0,max=300)\n",
    "print(scores)\n",
    "isYes=pyip.inputMenu(['y','n'],prompt=\"學生是否符合加分條件(請選擇1或2)?\\n\",numbered=True)\n",
    "if isYes == 'y':\n",
    "    print(\"加分\")\n",
    "else:\n",
    "    print(\"減分\")"
   ]
  },
  {
   "cell_type": "code",
   "execution_count": 24,
   "metadata": {},
   "outputs": [
    {
     "ename": "SyntaxError",
     "evalue": "Missing parentheses in call to 'print'. Did you mean print(...)? (1857919289.py, line 4)",
     "output_type": "error",
     "traceback": [
      "\u001b[0;36m  Cell \u001b[0;32mIn[24], line 4\u001b[0;36m\u001b[0m\n\u001b[0;31m    print\"x**(1/y)\"\u001b[0m\n\u001b[0m    ^\u001b[0m\n\u001b[0;31mSyntaxError\u001b[0m\u001b[0;31m:\u001b[0m Missing parentheses in call to 'print'. Did you mean print(...)?\n"
     ]
    }
   ],
   "source": [
    "import pyinputplus as pyip\n",
    "x=input(\"請輸入x\")\n",
    "if int(x)>=0:\n",
    "    print\"x**(1/y)\"\n",
    "else:\n",
    "    if int((x/2))%0:\n",
    "        print(\"虛數\")\n",
    "    else:\n",
    "        print(-(-x)**(1/y))"
   ]
  },
  {
   "cell_type": "markdown",
   "metadata": {},
   "source": [
    "import pyinputplus as pyip\n",
    "if(x)>=0:\n",
    "    print=x**(1/y)\n",
    "else:\n",
    "    if(x/2)%0:\n",
    "        print(\"虛數\")\n",
    "    else:\n",
    "        print(-(-x)**(1/y))"
   ]
  },
  {
   "cell_type": "code",
   "execution_count": null,
   "metadata": {},
   "outputs": [],
   "source": [
    "x=10\n"
   ]
  },
  {
   "cell_type": "code",
   "execution_count": 27,
   "metadata": {},
   "outputs": [
    {
     "ename": "TypeError",
     "evalue": "'str' object is not callable",
     "output_type": "error",
     "traceback": [
      "\u001b[0;31m---------------------------------------------------------------------------\u001b[0m",
      "\u001b[0;31mTypeError\u001b[0m                                 Traceback (most recent call last)",
      "\u001b[1;32m/workspaces/112python_1014/lesson4_1.ipynb Cell 10\u001b[0m line \u001b[0;36m1\n\u001b[1;32m      <a href='vscode-notebook-cell://codespaces%2Bautomatic-succotash-979pqvgq7r7jfr99/workspaces/112python_1014/lesson4_1.ipynb#X13sdnNjb2RlLXJlbW90ZQ%3D%3D?line=8'>9</a>\u001b[0m     \u001b[39melse\u001b[39;00m:\n\u001b[1;32m     <a href='vscode-notebook-cell://codespaces%2Bautomatic-succotash-979pqvgq7r7jfr99/workspaces/112python_1014/lesson4_1.ipynb#X13sdnNjb2RlLXJlbW90ZQ%3D%3D?line=9'>10</a>\u001b[0m         root\u001b[39m=\u001b[39m\u001b[39m-\u001b[39m(\u001b[39m-\u001b[39mx)\u001b[39m*\u001b[39m\u001b[39m*\u001b[39m(\u001b[39m1\u001b[39m\u001b[39m/\u001b[39my)\n\u001b[0;32m---> <a href='vscode-notebook-cell://codespaces%2Bautomatic-succotash-979pqvgq7r7jfr99/workspaces/112python_1014/lesson4_1.ipynb#X13sdnNjb2RlLXJlbW90ZQ%3D%3D?line=10'>11</a>\u001b[0m \u001b[39mprint\u001b[39;49m(root)\n",
      "\u001b[0;31mTypeError\u001b[0m: 'str' object is not callable"
     ]
    }
   ],
   "source": [
    "x=-9\n",
    "y=2\n",
    "if x>=0:\n",
    "    print(\"不是負數\")\n",
    "    root=X**(1/y)\n",
    "else:\n",
    "    if x %2==0:\n",
    "        root=\"虛數\"\n",
    "    else:\n",
    "        root=-(-x)**(1/y)\n",
    "print(root)"
   ]
  },
  {
   "cell_type": "code",
   "execution_count": 30,
   "metadata": {},
   "outputs": [
    {
     "ename": "TypeError",
     "evalue": "'str' object is not callable",
     "output_type": "error",
     "traceback": [
      "\u001b[0;31m---------------------------------------------------------------------------\u001b[0m",
      "\u001b[0;31mTypeError\u001b[0m                                 Traceback (most recent call last)",
      "\u001b[1;32m/workspaces/112python_1014/lesson4_1.ipynb Cell 11\u001b[0m line \u001b[0;36m8\n\u001b[1;32m      <a href='vscode-notebook-cell://codespaces%2Bautomatic-succotash-979pqvgq7r7jfr99/workspaces/112python_1014/lesson4_1.ipynb#X15sdnNjb2RlLXJlbW90ZQ%3D%3D?line=5'>6</a>\u001b[0m     \u001b[39mprint\u001b[39m(\u001b[39m\"\u001b[39m\u001b[39m優\u001b[39m\u001b[39m\"\u001b[39m)\n\u001b[1;32m      <a href='vscode-notebook-cell://codespaces%2Bautomatic-succotash-979pqvgq7r7jfr99/workspaces/112python_1014/lesson4_1.ipynb#X15sdnNjb2RlLXJlbW90ZQ%3D%3D?line=6'>7</a>\u001b[0m \u001b[39melse\u001b[39;00m:\n\u001b[0;32m----> <a href='vscode-notebook-cell://codespaces%2Bautomatic-succotash-979pqvgq7r7jfr99/workspaces/112python_1014/lesson4_1.ipynb#X15sdnNjb2RlLXJlbW90ZQ%3D%3D?line=7'>8</a>\u001b[0m     \u001b[39mprint\u001b[39;49m(\u001b[39m\"\u001b[39;49m\u001b[39m甲\u001b[39;49m\u001b[39m\"\u001b[39;49m)\n",
      "\u001b[0;31mTypeError\u001b[0m: 'str' object is not callable"
     ]
    }
   ],
   "source": [
    "scores=75\n",
    "if scores<60:\n",
    "    print(\"不及格\")\n",
    "else:\n",
    "    if scores>=80:\n",
    "        print(\"優\")\n",
    "    else:\n",
    "        print(\"甲\")\n",
    "   \n"
   ]
  },
  {
   "cell_type": "code",
   "execution_count": 34,
   "metadata": {},
   "outputs": [
    {
     "ename": "TypeError",
     "evalue": "'str' object is not callable",
     "output_type": "error",
     "traceback": [
      "\u001b[0;31m---------------------------------------------------------------------------\u001b[0m",
      "\u001b[0;31mTypeError\u001b[0m                                 Traceback (most recent call last)",
      "\u001b[1;32m/workspaces/112python_1014/lesson4_1.ipynb Cell 12\u001b[0m line \u001b[0;36m4\n\u001b[1;32m      <a href='vscode-notebook-cell://codespaces%2Bautomatic-succotash-979pqvgq7r7jfr99/workspaces/112python_1014/lesson4_1.ipynb#X21sdnNjb2RlLXJlbW90ZQ%3D%3D?line=1'>2</a>\u001b[0m scores\u001b[39m=\u001b[39m\u001b[39m95\u001b[39m\n\u001b[1;32m      <a href='vscode-notebook-cell://codespaces%2Bautomatic-succotash-979pqvgq7r7jfr99/workspaces/112python_1014/lesson4_1.ipynb#X21sdnNjb2RlLXJlbW90ZQ%3D%3D?line=2'>3</a>\u001b[0m \u001b[39mif\u001b[39;00m scores\u001b[39m>\u001b[39m\u001b[39m=\u001b[39m\u001b[39m90\u001b[39m:\n\u001b[0;32m----> <a href='vscode-notebook-cell://codespaces%2Bautomatic-succotash-979pqvgq7r7jfr99/workspaces/112python_1014/lesson4_1.ipynb#X21sdnNjb2RlLXJlbW90ZQ%3D%3D?line=3'>4</a>\u001b[0m     \u001b[39mprint\u001b[39;49m(\u001b[39m'\u001b[39;49m\u001b[39m優\u001b[39;49m\u001b[39m'\u001b[39;49m)\n\u001b[1;32m      <a href='vscode-notebook-cell://codespaces%2Bautomatic-succotash-979pqvgq7r7jfr99/workspaces/112python_1014/lesson4_1.ipynb#X21sdnNjb2RlLXJlbW90ZQ%3D%3D?line=4'>5</a>\u001b[0m \u001b[39melif\u001b[39;00m scores\u001b[39m>\u001b[39m\u001b[39m=\u001b[39m\u001b[39m80\u001b[39m:\n\u001b[1;32m      <a href='vscode-notebook-cell://codespaces%2Bautomatic-succotash-979pqvgq7r7jfr99/workspaces/112python_1014/lesson4_1.ipynb#X21sdnNjb2RlLXJlbW90ZQ%3D%3D?line=5'>6</a>\u001b[0m     \u001b[39mprint\u001b[39m(\u001b[39m'\u001b[39m\u001b[39m甲\u001b[39m\u001b[39m'\u001b[39m)\n",
      "\u001b[0;31mTypeError\u001b[0m: 'str' object is not callable"
     ]
    }
   ],
   "source": [
    "#多項選擇\n",
    "scores=95\n",
    "if scores>=90:\n",
    "    print('優')\n",
    "elif scores>=80:\n",
    "    print('甲')\n",
    "elif score>=70:\n",
    "    print('乙')\n",
    "elif score>=60:\n",
    "    print('丙')\n",
    "else:\n",
    "    print('丁')"
   ]
  },
  {
   "cell_type": "code",
   "execution_count": 38,
   "metadata": {},
   "outputs": [
    {
     "ename": "TypeError",
     "evalue": "'str' object is not callable",
     "output_type": "error",
     "traceback": [
      "\u001b[0;31m---------------------------------------------------------------------------\u001b[0m",
      "\u001b[0;31mTypeError\u001b[0m                                 Traceback (most recent call last)",
      "\u001b[1;32m/workspaces/112python_1014/lesson4_1.ipynb Cell 13\u001b[0m line \u001b[0;36m1\n\u001b[1;32m     <a href='vscode-notebook-cell://codespaces%2Bautomatic-succotash-979pqvgq7r7jfr99/workspaces/112python_1014/lesson4_1.ipynb#X22sdnNjb2RlLXJlbW90ZQ%3D%3D?line=9'>10</a>\u001b[0m     root\u001b[39m=\u001b[39mx\u001b[39m*\u001b[39m\u001b[39m0.95\u001b[39m\n\u001b[1;32m     <a href='vscode-notebook-cell://codespaces%2Bautomatic-succotash-979pqvgq7r7jfr99/workspaces/112python_1014/lesson4_1.ipynb#X22sdnNjb2RlLXJlbW90ZQ%3D%3D?line=10'>11</a>\u001b[0m \u001b[39melse\u001b[39;00m:\n\u001b[0;32m---> <a href='vscode-notebook-cell://codespaces%2Bautomatic-succotash-979pqvgq7r7jfr99/workspaces/112python_1014/lesson4_1.ipynb#X22sdnNjb2RlLXJlbW90ZQ%3D%3D?line=11'>12</a>\u001b[0m     \u001b[39mprint\u001b[39;49m(x)\n",
      "\u001b[0;31mTypeError\u001b[0m: 'str' object is not callable"
     ]
    }
   ],
   "source": [
    "#多項選擇\n",
    "x=13000\n",
    "if scores>=100000:\n",
    "    root=x*0.8\n",
    "elif scores>=50000:\n",
    "    root=x*0.85\n",
    "elif score>=30000:\n",
    "    root=x*0.9\n",
    "elif score>=10000:\n",
    "    root=x*0.95\n",
    "else:\n",
    "    print(x)"
   ]
  },
  {
   "cell_type": "code",
   "execution_count": null,
   "metadata": {},
   "outputs": [],
   "source": []
  }
 ],
 "metadata": {
  "kernelspec": {
   "display_name": "Python 3",
   "language": "python",
   "name": "python3"
  },
  "language_info": {
   "codemirror_mode": {
    "name": "ipython",
    "version": 3
   },
   "file_extension": ".py",
   "mimetype": "text/x-python",
   "name": "python",
   "nbconvert_exporter": "python",
   "pygments_lexer": "ipython3",
   "version": "3.10.8"
  }
 },
 "nbformat": 4,
 "nbformat_minor": 2
}
