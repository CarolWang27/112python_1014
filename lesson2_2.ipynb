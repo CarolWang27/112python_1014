{
 "cells": [
  {
   "cell_type": "code",
   "execution_count": 2,
   "metadata": {},
   "outputs": [
    {
     "data": {
      "text/plain": [
       "11"
      ]
     },
     "metadata": {},
     "output_type": "display_data"
    },
    {
     "data": {
      "text/plain": [
       "110"
      ]
     },
     "metadata": {},
     "output_type": "display_data"
    }
   ],
   "source": [
    "n=5\n",
    "n+=6\n",
    "display(n)\n",
    "n*=10\n",
    "display(n)"
   ]
  },
  {
   "cell_type": "code",
   "execution_count": 3,
   "metadata": {},
   "outputs": [
    {
     "name": "stdout",
     "output_type": "stream",
     "text": [
      "您是成年\n",
      "20\n",
      "應用程式結束\n"
     ]
    }
   ],
   "source": [
    "#雙向選擇\n",
    "age=int(input(\"請輸入age\"))\n",
    "if age>=20:\n",
    "    print(\"您是成年\")\n",
    "    print(age)\n",
    "else:\n",
    "    print(\"您是未成年\")\n",
    "    print(age)\n",
    "print(\"應用程式結束\")"
   ]
  },
  {
   "cell_type": "code",
   "execution_count": 4,
   "metadata": {},
   "outputs": [
    {
     "name": "stdout",
     "output_type": "stream",
     "text": [
      "您是成年\n",
      "20\n",
      "應用程式結束\n"
     ]
    }
   ],
   "source": [
    "try:\n",
    "    age=int(input(\"請輸入age:\"))\n",
    "except:\n",
    "    print(\"輸入錯誤\")\n",
    "else:\n",
    "    if age>=20:\n",
    "        print(\"您是成年\")\n",
    "        print(age)\n",
    "    else:\n",
    "        print(\"您是未成年\")\n",
    "        print(age)\n",
    "print(\"應用程式結束\")\n"
   ]
  },
  {
   "cell_type": "code",
   "execution_count": 5,
   "metadata": {},
   "outputs": [
    {
     "name": "stdout",
     "output_type": "stream",
     "text": [
      "hello\n"
     ]
    }
   ],
   "source": [
    "print(\"hello\")"
   ]
  },
  {
   "cell_type": "code",
   "execution_count": 6,
   "metadata": {},
   "outputs": [
    {
     "name": "stdout",
     "output_type": "stream",
     "text": [
      "請輸入年齡"
     ]
    },
    {
     "name": "stdout",
     "output_type": "stream",
     "text": [
      "20\n"
     ]
    }
   ],
   "source": [
    "import pyinputplus as pyip\n",
    "age=pyip.inputNum(\"請輸入年齡\")\n",
    "print(age)\n"
   ]
  }
 ],
 "metadata": {
  "kernelspec": {
   "display_name": "Python 3 (ipykernel)",
   "language": "python",
   "name": "python3"
  },
  "language_info": {
   "codemirror_mode": {
    "name": "ipython",
    "version": 3
   },
   "file_extension": ".py",
   "mimetype": "text/x-python",
   "name": "python",
   "nbconvert_exporter": "python",
   "pygments_lexer": "ipython3",
   "version": "3.10.8"
  }
 },
 "nbformat": 4,
 "nbformat_minor": 2
}
